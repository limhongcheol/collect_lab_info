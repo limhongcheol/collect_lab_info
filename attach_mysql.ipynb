{
 "cells": [
  {
   "cell_type": "code",
   "execution_count": 14,
   "id": "28ad15a5",
   "metadata": {},
   "outputs": [
    {
     "name": "stdout",
     "output_type": "stream",
     "text": [
      "✅ 모든 테이블을 중복 없이 MySQL에 성공적으로 삽입 완료!\n"
     ]
    }
   ],
   "source": [
    "import pandas as pd\n",
    "from sqlalchemy import create_engine, text\n",
    "import pymysql\n",
    "\n",
    "user = \"root\"\n",
    "password = \"1234\"\n",
    "host = \"localhost\"\n",
    "port = 3306\n",
    "database = \"university_df\"\n",
    "\n",
    "engine = create_engine(f\"mysql+pymysql://{user}:{password}@{host}:{port}/{database}\", echo=False)\n",
    "\n",
    "\n",
    "def insert_ignore(engine, table_name, df):\n",
    "    if df.empty:\n",
    "        print(f\"[❗ SKIP] {table_name} is empty.\")\n",
    "        return\n",
    "    df = df.where(pd.notnull(df), None)  # NaN -> None\n",
    "\n",
    "    with engine.begin() as conn:\n",
    "        cols = ', '.join(f\"`{col}`\" for col in df.columns)\n",
    "        placeholders = ', '.join([f\":{col}\" for col in df.columns])\n",
    "        sql = text(f\"INSERT IGNORE INTO {table_name} ({cols}) VALUES ({placeholders})\")\n",
    "\n",
    "        values = df.to_dict(orient='records')\n",
    "        conn.execute(sql, values)\n",
    "\n",
    "excel_path = \"연구실_8개_테이블_정리.xlsx\"\n",
    "\n",
    "df1 = pd.read_excel(excel_path, sheet_name=\"테이블1_기본정보\")\n",
    "df2 = pd.read_excel(excel_path, sheet_name=\"테이블2_연구원\")\n",
    "df3 = pd.read_excel(excel_path, sheet_name=\"테이블3_논문\")\n",
    "df4 = pd.read_excel(excel_path, sheet_name=\"테이블4_교수_과목\")\n",
    "df5 = pd.read_excel(excel_path, sheet_name=\"테이블5_프로젝트\")\n",
    "df6 = pd.read_excel(excel_path, sheet_name=\"테이블6_리크루트\")\n",
    "df7 = pd.read_excel(excel_path, sheet_name=\"테이블7_연구주제\")\n",
    "df8 = pd.read_excel(excel_path, sheet_name=\"테이블8_교수님\")\n",
    "\n",
    "df1.columns = ['main_url', 'category', 'title', 'url']\n",
    "insert_ignore(engine, 'main_info', df1)\n",
    "\n",
    "df2.columns = ['main_url', 'category', 'name', 'career_years', 'field', 'research_topic', 'etc']\n",
    "insert_ignore(engine, 'researcher', df2)\n",
    "\n",
    "df3.columns = ['main_url', 'category', 'paper_title', 'journal', 'author', 'year']\n",
    "insert_ignore(engine, 'paper', df3)\n",
    "\n",
    "subject_cols_all = [f'과목{i}' for i in range(1, 21)]\n",
    "\n",
    "subject_cols = [col for col in subject_cols_all if col in df4.columns]\n",
    "\n",
    "df4['subjects'] = df4[subject_cols].apply(\n",
    "    lambda x: ', '.join([str(i) for i in x if pd.notna(i) and i != '미상']),\n",
    "    axis=1\n",
    ")\n",
    "\n",
    "df4_final = df4[['메인주소', '분류', 'subjects']].rename(\n",
    "    columns={'메인주소': 'main_url', '분류': 'category'}\n",
    ")\n",
    "\n",
    "insert_ignore(engine, 'professor_subject', df4_final)\n",
    "\n",
    "df5.columns = ['main_url', 'category', 'project_name', 'project_desc']\n",
    "insert_ignore(engine, 'project', df5)\n",
    "\n",
    "df6.columns = ['main_url', 'category', 'info']\n",
    "insert_ignore(engine, 'recruit', df6)\n",
    "\n",
    "df7.columns = ['main_url', 'category', 'topic']\n",
    "insert_ignore(engine, 'research_topic', df7)\n",
    "\n",
    "df8.columns = ['main_url', 'category', 'name','email', 'university', 'phone', 'office_location', 'other_info']\n",
    "insert_ignore(engine, 'professor', df8)\n",
    "\n",
    "print(\"✅ 모든 테이블을 중복 없이 MySQL에 성공적으로 삽입 완료!\")\n"
   ]
  },
  {
   "cell_type": "code",
   "execution_count": null,
   "id": "918a159e",
   "metadata": {},
   "outputs": [],
   "source": []
  }
 ],
 "metadata": {
  "kernelspec": {
   "display_name": "Python 3",
   "language": "python",
   "name": "python3"
  },
  "language_info": {
   "codemirror_mode": {
    "name": "ipython",
    "version": 3
   },
   "file_extension": ".py",
   "mimetype": "text/x-python",
   "name": "python",
   "nbconvert_exporter": "python",
   "pygments_lexer": "ipython3",
   "version": "3.11.11"
  }
 },
 "nbformat": 4,
 "nbformat_minor": 5
}
